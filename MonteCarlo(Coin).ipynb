{
 "cells": [
  {
   "cell_type": "code",
   "execution_count": 8,
   "id": "bb65509d-3037-4b0a-b13c-424e0137ac1f",
   "metadata": {},
   "outputs": [],
   "source": [
    "import random"
   ]
  },
  {
   "cell_type": "code",
   "execution_count": 9,
   "id": "4311f308-3619-4f7f-ac7b-7d638e97779b",
   "metadata": {},
   "outputs": [],
   "source": [
    "\n",
    "def simulate_coin_tosses(num_flips):\n",
    "    \"\"\"Simulate flipping a coin num_flips times, return the number of heads.\"\"\"\n",
    "    heads_count = 0\n",
    "    for _ in range(num_flips):\n",
    "        # Randomly decide between heads (1) or tails (0)\n",
    "        if random.randint(0, 1) == 1:\n",
    "            heads_count += 1\n",
    "    return heads_count\n"
   ]
  },
  {
   "cell_type": "code",
   "execution_count": 10,
   "id": "ec3d7f1c-a9bf-4650-ac86-b73c5db27f63",
   "metadata": {},
   "outputs": [],
   "source": [
    "def estimate_probability(target_heads, num_flips, num_experiments):\n",
    "    \"\"\"Estimate the probability of getting exactly target_heads heads in num_flips coin flips.\"\"\"\n",
    "    success_count = 0\n",
    "\n",
    "    for _ in range(num_experiments):\n",
    "        heads_count = simulate_coin_tosses(num_flips)\n",
    "        if heads_count == target_heads:\n",
    "            success_count += 1\n",
    "\n",
    "    # Estimated probability is the ratio of successful experiments to total experiments\n",
    "    probability = success_count / num_experiments\n",
    "    return probability\n"
   ]
  },
  {
   "cell_type": "code",
   "execution_count": 19,
   "id": "f7b39e20-1f6b-4a9f-8f18-334411fbe106",
   "metadata": {},
   "outputs": [
    {
     "name": "stdout",
     "output_type": "stream",
     "text": [
      "Estimated probability of getting exactly 0 heads in 10 coin flips: 0.00087\n"
     ]
    }
   ],
   "source": [
    "# Example usage\n",
    "num_flips = 10  # Number of coin flips per experiment\n",
    "target_heads =   # Looking for exactly 5 heads\n",
    "num_experiments = 100000  # Number of experiments to run\n",
    "\n",
    "probability_estimate = estimate_probability(target_heads, num_flips, num_experiments)\n",
    "print(f\"Estimated probability of getting exactly {target_heads} heads in {num_flips} coin flips: {probability_estimate}\")\n"
   ]
  },
  {
   "cell_type": "code",
   "execution_count": null,
   "id": "a4848643-771b-4ad5-a71a-c46ae2e9294f",
   "metadata": {},
   "outputs": [],
   "source": []
  },
  {
   "cell_type": "code",
   "execution_count": null,
   "id": "68090791-cf0e-41f9-b0d6-77aba3b369b1",
   "metadata": {},
   "outputs": [],
   "source": []
  }
 ],
 "metadata": {
  "kernelspec": {
   "display_name": "Python 3 (ipykernel)",
   "language": "python",
   "name": "python3"
  },
  "language_info": {
   "codemirror_mode": {
    "name": "ipython",
    "version": 3
   },
   "file_extension": ".py",
   "mimetype": "text/x-python",
   "name": "python",
   "nbconvert_exporter": "python",
   "pygments_lexer": "ipython3",
   "version": "3.9.18"
  }
 },
 "nbformat": 4,
 "nbformat_minor": 5
}
